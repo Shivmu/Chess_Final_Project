{
  "nbformat": 4,
  "nbformat_minor": 0,
  "metadata": {
    "colab": {
      "name": "FYPChessEngine.ipynb",
      "provenance": [],
      "collapsed_sections": []
    },
    "kernelspec": {
      "name": "python3",
      "display_name": "Python 3"
    },
    "accelerator": "GPU"
  },
  "cells": [
    {
      "cell_type": "code",
      "metadata": {
        "id": "fn0sCWoHYsbB"
      },
      "source": [
        "# commands to ge stockfish resources\n",
        "!pip install python-chess==0.31.0\n",
        "!pip install pip install chess-board\n",
        "!wget https://www.dropbox.com/sh/75gzfgu7qo94pvh/AACk_w5M94GTwwhSItCqsemoa/Stockfish%205/stockfish-5-linux.zip\n",
        "!unzip stockfish-5-linux.zip\n",
        "!chmod +x stockfish-5-linux/Linux/stockfish_14053109_x64"
      ],
      "execution_count": null,
      "outputs": []
    },
    {
      "cell_type": "code",
      "metadata": {
        "id": "8pSM-4C_Mr17"
      },
      "source": [
        "from google.colab import drive\n",
        "drive.mount('/content/drive')"
      ],
      "execution_count": null,
      "outputs": []
    },
    {
      "cell_type": "code",
      "metadata": {
        "id": "GVIlM3TdM7kD"
      },
      "source": [
        "#!7z e \"/content/drive/MyDrive/dataset.7z\"\n",
        "\n"
      ],
      "execution_count": null,
      "outputs": []
    },
    {
      "cell_type": "code",
      "metadata": {
        "id": "F__RpBPDbIBC"
      },
      "source": [
        "# libraries that will be needed in our program\n",
        "import chess\n",
        "import chess.engine\n",
        "import random\n",
        "import numpy\n",
        "import tensorflow.keras.models as models\n",
        "import tensorflow.keras.layers as layers\n",
        "import tensorflow.keras.utils as utils\n",
        "import tensorflow.keras.optimizers as optimizers\n",
        "import tensorflow.keras.callbacks as callbacks\n",
        "from google.colab import drive"
      ],
      "execution_count": null,
      "outputs": []
    },
    {
      "cell_type": "code",
      "metadata": {
        "id": "Rdo64dA7dhBE"
      },
      "source": [
        "# Functions to convert a state of board into respective matrixes\n",
        "index = {\n",
        "  'a': 0,\n",
        "  'b': 1,\n",
        "  'c': 2,\n",
        "  'd': 3,\n",
        "  'e': 4,\n",
        "  'f': 5,\n",
        "  'g': 6,\n",
        "  'h': 7\n",
        "}\n",
        "\n",
        "def index_generator(square):\n",
        "  # Takes a square from the board and converts it to a matrix displaying where on the board it wll be\n",
        "  data = chess.square_name(square)\n",
        "  return 8 - int(data[1]), index[data[0]]\n",
        " \n",
        "\n",
        "def split_dimensions(board):\n",
        " # Creates a 14, 8, 8 matrix of type int8 used to store the position of each piece on the board\n",
        "  board3d = numpy.zeros((14, 8, 8), dtype=numpy.int8)\n",
        "\n",
        "  # For all the types of chess pieces\n",
        "  for piece in chess.PIECE_TYPES:\n",
        "    # Nested loop which deals with the white pieces\n",
        "    for square in board.pieces(piece, chess.WHITE):\n",
        "      # For the given piece it will find the position of piece and place it in the board3d matrix which hold all the pieces positions.\n",
        "      idx = numpy.unravel_index(square, (8, 8))\n",
        "      # As this is a nested loop it will run through multiple times. \n",
        "      #The number of pieces will decrease resulting in a list of all white pieces positions displayed on a 14x8x8 matrix \n",
        "      board3d[piece - 1][7 - idx[0]][idx[1]] = 1\n",
        "    for square in board.pieces(piece, chess.BLACK):\n",
        "      # The same will occur for the black pieces.\n",
        "      idx = numpy.unravel_index(square, (8, 8))\n",
        "      board3d[piece + 5][7 - idx[0]][idx[1]] = 1\n",
        "\n",
        "  # add attacks and valid moves too\n",
        "  # so the network knows what is being attacked\n",
        "  aux = board.turn\n",
        "  # creating a variable for whether it is white pieces turn or black pieces turn\n",
        "  #for the white moves\n",
        "  board.turn = chess.WHITE\n",
        "  #Checking all of whites legal moves and adding them to the 14x8x8 matrix\n",
        "  for move in board.legal_moves:\n",
        "      i, j = index_generator(move.to_square)\n",
        "      board3d[12][i][j] = 1\n",
        "  board.turn = chess.BLACK\n",
        "  #Does the same for the black moves also adding them to the matrix\n",
        "  for move in board.legal_moves:\n",
        "      i, j = index_generator(move.to_square)\n",
        "      board3d[13][i][j] = 1\n",
        "  board.turn = aux\n",
        "\n",
        "  return board3d"
      ],
      "execution_count": null,
      "outputs": []
    },
    {
      "cell_type": "code",
      "metadata": {
        "id": "t87bI-aphQo9"
      },
      "source": [
        "board = chess.Board()\n",
        "print(board)\n",
        "split_dimensions(board)"
      ],
      "execution_count": null,
      "outputs": []
    },
    {
      "cell_type": "code",
      "metadata": {
        "id": "6S7QNZqwmBOP"
      },
      "source": [
        "# CNN model  with 5 Convolutional Layers and 4 Fully Connected Layers\n",
        "def build_model():\n",
        "  model = layers.Input(shape=(14, 8, 8))\n",
        "  # Creating a model with the input layers shape being 14x8x8\n",
        "\n",
        "  # adding the convolutional layers\n",
        "  x = model\n",
        "  conv_size = 32\n",
        "  x = layers.Conv2D(filters=conv_size, kernel_size=3, padding='same', activation='relu', data_format='channels_first')(x)\n",
        "  # The layers creates a convolution kernal that takes in the input layer.\n",
        "  # Filters determine the size of the output filters in the convolution\n",
        "  # Kernal size specifies the height and width of the convolution windown\n",
        "  # Padding relates to the output being the same size and the input\n",
        "  # Activation function adds non linear properties to the neural network\n",
        "  # Data_format channels_first takes the input as a shape\n",
        "  x = layers.BatchNormalization()(x)\n",
        "  #BatchNormalization applies a transformation which maintains the mean output to 0 and the standard deviation to 1\n",
        "  #Adding multiple convolutional layers\n",
        "  # adding Fully Connected Layers with Relu Activation function\n",
        "  x = layers.Conv2D(filters=conv_size, kernel_size=3, padding='same', activation='relu', data_format='channels_first')(x)\n",
        "  x = layers.BatchNormalization()(x)\n",
        "  x = layers.Conv2D(filters=conv_size, kernel_size=3, padding='same', activation='relu', data_format='channels_first')(x)\n",
        "  x = layers.BatchNormalization()(x)\n",
        "  x = layers.Conv2D(filters=conv_size, kernel_size=3, padding='same', activation='relu', data_format='channels_first')(x)\n",
        "  x = layers.BatchNormalization()(x)\n",
        "  x = layers.Conv2D(filters=conv_size, kernel_size=3, padding='same', activation='relu', data_format='channels_first')(x)\n",
        "  x = layers.Flatten()(x)\n",
        "  # Flattens the input\n",
        "  \n",
        "  x = layers.Dense(64, 'relu')(x)\n",
        "  x = layers.Dense(1, 'sigmoid')(x)\n",
        " \n",
        "\n",
        "  return models.Model(inputs=model, outputs=x)"
      ],
      "execution_count": null,
      "outputs": []
    },
    {
      "cell_type": "code",
      "metadata": {
        "id": "3IjDiS3Bmo5m"
      },
      "source": [
        "model = build_model()\n",
        "#calling the function to build the model\n",
        "model.compile(optimizer=optimizers.Adam(1e-4), loss='mean_squared_error')\n",
        "model.summary()\n"
      ],
      "execution_count": null,
      "outputs": []
    },
    {
      "cell_type": "markdown",
      "metadata": {
        "id": "6S1RCn3xn4Bu"
      },
      "source": [
        "Skip connections (residual network) will likely improve the model for deeper connections. If you want to test the residual model, check the code below."
      ]
    },
    {
      "cell_type": "code",
      "metadata": {
        "id": "CkOXxmoVyHdc",
        "cellView": "both"
      },
      "source": [
        "# Method to get process the data from google drive\n",
        "def get_data():\n",
        "  data = numpy.load('/content/drive/MyDrive/chessdata/dataset.npz')\n",
        "  #data = numpy.load('/content/dataset.npz')\n",
        "  # Splitting the data into the  matrices and the value of whether black or white won the game.\n",
        "  matrix = data['b']\n",
        "  values = data['v']\n",
        "  print(matrix[0])\n",
        "  print(values)\n",
        "  # the values within the data are normalised to values between 0 and 1 \n",
        "  values = numpy.asarray(values / abs(values).max() / 2 + 0.5, dtype=numpy.float32) \n",
        "  return matrix, values\n",
        "\n",
        "# Calling the get_data function to used for training the model \n",
        "x_train, y_train = get_data()\n",
        "print(x_train.shape)\n",
        "print(y_train.shape)\n",
        "\n",
        "dataview = numpy.load('/content/drive/MyDrive/chessdata/dataset.npz')\n",
        "\n"
      ],
      "execution_count": null,
      "outputs": []
    },
    {
      "cell_type": "code",
      "metadata": {
        "id": "n8pbSAkHqobQ"
      },
      "source": [
        "# Training the model using the data\n",
        "\n",
        "model.fit(x_train, y_train,\n",
        "          # batch size is the number of samples per gradient update\n",
        "          batch_size=2048,\n",
        "          # An epoch is an iteration over the x and y dataset. represents the number of epochs to train the model\n",
        "          epochs=1000,\n",
        "          # the progress bar\n",
        "          verbose = 1,\n",
        "          # A fraction of the training data to be used as validation\n",
        "          validation_split=0.1,\n",
        "          \n",
        "          callbacks=[callbacks.ReduceLROnPlateau(monitor='loss', patience=8,verbose=1),\n",
        "                     callbacks.EarlyStopping(monitor='loss', patience=10, min_delta=1e-4,verbose=1)])\n",
        "\n",
        "model.save('CNN_Model.h5')\n"
      ],
      "execution_count": null,
      "outputs": []
    },
    {
      "cell_type": "code",
      "metadata": {
        "id": "e4CfjcGorHzg"
      },
      "source": [
        "# used for the minimax algorithm\n",
        "def evaluator(board):\n",
        "  #calling the split_dimensions method\n",
        "  board = split_dimensions(board)\n",
        "  #expanding the board on the 0 axis\n",
        "  board = numpy.expand_dims(board, 0)\n",
        "  return model.predict(board)[0][0]\n",
        "\n",
        "# Min Max Function with alpha beta pruning\n",
        "# A recursive algofrithm that calls itself whilst running\n",
        "def minimax(board, depth, alpha, beta, max_player):\n",
        "  if depth == 0 or board.is_game_over():\n",
        "\n",
        "    return evaluator(board)\n",
        "  \n",
        "  \n",
        "  if max_player == False:\n",
        "    # meval is a variable used to represent positive infinity\n",
        "    meval = numpy.inf\n",
        "    # for every move in the chess board that is legal\n",
        "    for legal_move in board.legal_moves:\n",
        "      # Push the next legal move in the list of all legal moves\n",
        "      board.push(legal_move)\n",
        "      # The minimax function is called again for the next legal move and saved as eval\n",
        "      eval = minimax(board, depth - 1, alpha, beta, True)\n",
        "      # Unmake the last move\n",
        "      board.pop()\n",
        "      # meval in the minimum value of meval or eval\n",
        "      meval = min(meval, eval)\n",
        "      # beta is the minimum value of beta or eval\n",
        "      beta = min(beta, eval)\n",
        "      # if the beta is less than or equal to alpha \n",
        "      if beta <= alpha:\n",
        "        break\n",
        "    return meval\n",
        "  \n",
        "  # max_player = true\n",
        "  else:\n",
        "    # meval is a variable used to represent negative infinity \n",
        "    meval = -numpy.inf\n",
        "    # for every move in the chess board that is legal \n",
        "    for legal_move in board.legal_moves:\n",
        "      # Push the next legal move in the list of all legal moves\n",
        "      board.push(move)\n",
        "      # The minimax function is called again for the next legal move and saved as eval\n",
        "      eval = minimax(board, depth - 1, alpha, beta, False)\n",
        "      # Unmake the last move\n",
        "      board.pop()\n",
        "      # max_eval is the maximum of max_eval and eval\n",
        "      max_eval = max(max_eval, eval)\n",
        "      # alpha is the maximum of alpha and eval \n",
        "      alpha = max(alpha, eval)\n",
        "      #if beta is less that or equal to alpha\n",
        "      if beta <= alpha:\n",
        "        break\n",
        "    return max_eval\n",
        "\n",
        "\n",
        "# this is the actual function that gets the move from the neural network\n",
        "def get_move(board, depth):\n",
        "  max_move = None\n",
        "  #max_eval set to negative infinity\n",
        "  max_eval = -numpy.inf\n",
        "  #for every move in the boards legal move\n",
        "  for m in board.legal_moves:\n",
        "    # push the move\n",
        "    board.push(m)\n",
        "    # Calling the minimax function and saving it to variable eval\n",
        "    eval = minimax(board, depth - 1, -numpy.inf, numpy.inf, False)\n",
        "    # pop the last move\n",
        "    board.pop()\n",
        "    # if the eval is greater than the max_eval\n",
        "    if eval > max_eval:\n",
        "      #finding the move with the maximum value and setting it to max move\n",
        "      max_eval = eval\n",
        "      max_move = m\n",
        "  \n",
        "  return max_move"
      ],
      "execution_count": null,
      "outputs": []
    },
    {
      "cell_type": "code",
      "metadata": {
        "id": "C63ND0E_uffp"
      },
      "source": [
        "# Computer vs Computer\n",
        "board = chess.Board()\n",
        "with chess.engine.SimpleEngine.popen_uci('/content/stockfish-5-linux/Linux/stockfish_14053109_x64') as engine:\n",
        "  while True:\n",
        "    #move is calling the get_move function\n",
        "    move = get_move(board, 1)\n",
        "    board.push(move)\n",
        "    # Printing the board after a move has been played\n",
        "    print(f'\\n{board}')\n",
        "    if board.is_game_over():\n",
        "      break\n",
        "   \n",
        "    # The chess engine Stockfish analyse the board and play its get move \n",
        "    move = engine.analyse(board, chess.engine.Limit(time=1), info=chess.engine.INFO_PV)['pv'][0]\n",
        "    # Pushing the move\n",
        "    board.push(move)\n",
        "    # Printing the board after stockfish plays a move\n",
        "    print(f'\\n{board}')\n",
        "    if board.is_game_over():\n",
        "      break"
      ],
      "execution_count": null,
      "outputs": []
    },
    {
      "cell_type": "code",
      "metadata": {
        "id": "Pxb6uW2-Hs2S"
      },
      "source": [
        "# Computer vs Human\n",
        "from chessboard import display\n",
        "board = chess.Board()\n",
        "\n",
        "while board.is_game_over() == False:\n",
        " \n",
        "  print(f'\\n{board}')\n",
        "  print(board.legal_moves)\n",
        "  move = input(\"Select moves from upper range Enter your move:\")\n",
        "  board.push_san(move)\n",
        "  if board.is_game_over():\n",
        "      print(\"Human Wins\")\n",
        "      break\n",
        "  \n",
        "  move = get_move(board, 1)\n",
        "  board.push(move)\n",
        "  print(f'\\n{board}')\n",
        "  if board.is_game_over():\n",
        "      print(\"AI wins\")\n",
        "      break\n",
        " \n",
        "  \n"
      ],
      "execution_count": null,
      "outputs": []
    },
    {
      "cell_type": "code",
      "metadata": {
        "id": "_2DITWvbPmVa"
      },
      "source": [
        "# AI vs AI\n",
        "from chessboard import display\n",
        "board = chess.Board('rnbqkbnr/pppp1ppp/8/4p3/5Q2/8/PPPPPPPP/RNB1KBNR')\n",
        "\n",
        "while board.is_game_over() == False:\n",
        "  move = get_move(board, 1)\n",
        "  board.push(move)\n",
        "  print(f'\\n{board}')\n",
        "  if board.is_game_over():\n",
        "      print(\"AI  1 Wins\")\n",
        "      break\n",
        "  move = get_move(board, 1)\n",
        "  board.push(move)\n",
        "  print(f'\\n{board}')\n",
        "  if board.is_game_over():\n",
        "      print(\"AI 2 wins\")\n",
        "      break\n",
        "  "
      ],
      "execution_count": null,
      "outputs": []
    },
    {
      "cell_type": "code",
      "metadata": {
        "id": "_cl3TpVn_9WL"
      },
      "source": [
        "# block to save and load model\n"
      ],
      "execution_count": null,
      "outputs": []
    }
  ]
}